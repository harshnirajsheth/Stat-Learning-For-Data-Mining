{
 "cells": [
  {
   "cell_type": "markdown",
   "metadata": {},
   "source": [
    "# <center>IEE 520: Fall 2019</center>"
   ]
  },
  {
   "cell_type": "markdown",
   "metadata": {},
   "source": [
    "# <center>Neural Networks (9/19/19)</center>"
   ]
  },
  {
   "cell_type": "markdown",
   "metadata": {},
   "source": [
    "## <center>Klim Drobnyh (klim.drobnyh@asu.edu)</center>"
   ]
  },
  {
   "cell_type": "code",
   "execution_count": null,
   "metadata": {},
   "outputs": [],
   "source": [
    "# For compatibility with Python 2\n",
    "from __future__ import print_function\n",
    "\n",
    "# To not to show warnings\n",
    "import warnings\n",
    "from sklearn.exceptions import ConvergenceWarning\n",
    "warnings.filterwarnings('ignore', category=ConvergenceWarning)\n",
    "\n",
    "# To load datasets\n",
    "from sklearn import datasets\n",
    "\n",
    "# To import the classifier (Neural Networks)\n",
    "import sklearn.neural_network as NN\n",
    "\n",
    "# To scale the data\n",
    "from sklearn.preprocessing import StandardScaler, MinMaxScaler\n",
    "\n",
    "# To measure accuracy\n",
    "from sklearn import metrics\n",
    "\n",
    "# To split data to train and test\n",
    "from sklearn.model_selection import train_test_split\n",
    "\n",
    "# To perform parameter search\n",
    "from sklearn.model_selection import GridSearchCV\n",
    "\n",
    "# To support plots\n",
    "import matplotlib.pyplot as plt\n",
    "\n",
    "# To display all the plots inline\n",
    "%matplotlib inline"
   ]
  },
  {
   "cell_type": "code",
   "execution_count": null,
   "metadata": {},
   "outputs": [],
   "source": [
    "# To increase quality of figures\n",
    "plt.rcParams[\"figure.figsize\"] = (10, 5)"
   ]
  },
  {
   "cell_type": "markdown",
   "metadata": {},
   "source": [
    "## <center>1. Breast cancer dataset (classification)</center>"
   ]
  },
  {
   "cell_type": "markdown",
   "metadata": {},
   "source": [
    "### <center>Load the dataset</center>"
   ]
  },
  {
   "cell_type": "code",
   "execution_count": null,
   "metadata": {},
   "outputs": [],
   "source": [
    "X, y = datasets.load_breast_cancer(True)"
   ]
  },
  {
   "cell_type": "code",
   "execution_count": null,
   "metadata": {},
   "outputs": [],
   "source": [
    "X.shape"
   ]
  },
  {
   "cell_type": "markdown",
   "metadata": {},
   "source": [
    "The dataset consists of 569 instances, 357 benign and 212 malignant. 30 features were collected. This is a classification problem with 2 target classes."
   ]
  },
  {
   "cell_type": "markdown",
   "metadata": {},
   "source": [
    "### <center>Split to train and test</center>"
   ]
  },
  {
   "cell_type": "markdown",
   "metadata": {},
   "source": [
    "Here, the data will be split to train and test. Only 10% of data will be used for testing purpose."
   ]
  },
  {
   "cell_type": "code",
   "execution_count": null,
   "metadata": {},
   "outputs": [],
   "source": [
    "X_train, X_test, y_train, y_test = train_test_split(X, y, test_size=0.1, random_state=520)"
   ]
  },
  {
   "cell_type": "markdown",
   "metadata": {},
   "source": [
    "### <center>Train a simple neural network</center>"
   ]
  },
  {
   "cell_type": "markdown",
   "metadata": {},
   "source": [
    "Now, let's train a simple neural network with default parameters, just 10 neurons and one hidden layer."
   ]
  },
  {
   "cell_type": "code",
   "execution_count": null,
   "metadata": {},
   "outputs": [],
   "source": [
    "model = NN.MLPClassifier(hidden_layer_sizes=(10,), random_state=520)\n",
    "model.fit(X_train, y_train)\n",
    "y_hat_test = model.predict(X_test)"
   ]
  },
  {
   "cell_type": "markdown",
   "metadata": {},
   "source": [
    "Scores (accuracies):"
   ]
  },
  {
   "cell_type": "code",
   "execution_count": null,
   "metadata": {},
   "outputs": [],
   "source": [
    "print('Train score:', model.score(X_train, y_train))\n",
    "print('Test score:', model.score(X_test, y_test))"
   ]
  },
  {
   "cell_type": "markdown",
   "metadata": {},
   "source": [
    "Confusion matrix:"
   ]
  },
  {
   "cell_type": "code",
   "execution_count": null,
   "metadata": {},
   "outputs": [],
   "source": [
    "# You need to install pandas_ml in order to use that!\n",
    "# conda install -c conda-forge pandas_ml\n",
    "\n",
    "# Uncomment the next line to install a missing package to Google Colab Environment\n",
    "# !pip install pandas_ml\n",
    "from pandas_ml import ConfusionMatrix"
   ]
  },
  {
   "cell_type": "code",
   "execution_count": null,
   "metadata": {},
   "outputs": [],
   "source": [
    "cm = ConfusionMatrix(y_test, y_hat_test)\n",
    "cm.print_stats()\n",
    "cm.plot(backend='seaborn', annot=True, fmt='g')\n",
    "plt.show()"
   ]
  },
  {
   "cell_type": "markdown",
   "metadata": {},
   "source": [
    "#### Conclusion: the model is simple and underfits the data"
   ]
  },
  {
   "cell_type": "markdown",
   "metadata": {},
   "source": [
    "## <center>Random state</center>"
   ]
  },
  {
   "cell_type": "code",
   "execution_count": null,
   "metadata": {},
   "outputs": [],
   "source": [
    "model = NN.MLPClassifier(hidden_layer_sizes=(10,), random_state=520)\n",
    "model.fit(X_train, y_train)\n",
    "print('Train score:', model.score(X_train, y_train))\n",
    "print('Test score:', model.score(X_test, y_test))"
   ]
  },
  {
   "cell_type": "code",
   "execution_count": null,
   "metadata": {},
   "outputs": [],
   "source": [
    "model = NN.MLPClassifier(hidden_layer_sizes=(10,), random_state=521)\n",
    "model.fit(X_train, y_train)\n",
    "print('Train score:', model.score(X_train, y_train))\n",
    "print('Test score:', model.score(X_test, y_test))"
   ]
  },
  {
   "cell_type": "code",
   "execution_count": null,
   "metadata": {},
   "outputs": [],
   "source": [
    "model = NN.MLPClassifier(hidden_layer_sizes=(10,), random_state=522)\n",
    "model.fit(X_train, y_train)\n",
    "print('Train score:', model.score(X_train, y_train))\n",
    "print('Test score:', model.score(X_test, y_test))"
   ]
  },
  {
   "cell_type": "markdown",
   "metadata": {},
   "source": [
    "We can see here that result might change depending just on weight initialization."
   ]
  },
  {
   "cell_type": "markdown",
   "metadata": {},
   "source": [
    "### <center>Scale the data</center>"
   ]
  },
  {
   "cell_type": "code",
   "execution_count": null,
   "metadata": {},
   "outputs": [],
   "source": [
    "scaler = StandardScaler()\n",
    "scaler.fit(X_train)\n",
    "X_train_scaled = scaler.transform(X_train)\n",
    "X_test_scaled = scaler.transform(X_test)"
   ]
  },
  {
   "cell_type": "markdown",
   "metadata": {},
   "source": [
    "Now, let's train exactly the same classifier, but using the scaled data"
   ]
  },
  {
   "cell_type": "code",
   "execution_count": null,
   "metadata": {},
   "outputs": [],
   "source": [
    "model = NN.MLPClassifier(hidden_layer_sizes=(10,), random_state=520)\n",
    "model.fit(X_train_scaled, y_train)\n",
    "y_hat_test = model.predict(X_test_scaled)"
   ]
  },
  {
   "cell_type": "markdown",
   "metadata": {},
   "source": [
    "Scores:"
   ]
  },
  {
   "cell_type": "code",
   "execution_count": null,
   "metadata": {},
   "outputs": [],
   "source": [
    "print('Train score:', model.score(X_train_scaled, y_train))\n",
    "print('Test score:', model.score(X_test_scaled, y_test))"
   ]
  },
  {
   "cell_type": "markdown",
   "metadata": {},
   "source": [
    "Confusion matrix:"
   ]
  },
  {
   "cell_type": "code",
   "execution_count": null,
   "metadata": {},
   "outputs": [],
   "source": [
    "cm = ConfusionMatrix(y_test, y_hat_test)\n",
    "cm.print_stats()\n",
    "cm.plot(backend='seaborn', annot=True, fmt='g')\n",
    "plt.show()"
   ]
  },
  {
   "cell_type": "markdown",
   "metadata": {},
   "source": [
    "## <center>2. Diabetes dataset (regression)</center>"
   ]
  },
  {
   "cell_type": "markdown",
   "metadata": {},
   "source": [
    "### <center>Load the dataset</center>"
   ]
  },
  {
   "cell_type": "code",
   "execution_count": null,
   "metadata": {},
   "outputs": [],
   "source": [
    "X, y = datasets.load_diabetes(True)"
   ]
  },
  {
   "cell_type": "code",
   "execution_count": null,
   "metadata": {},
   "outputs": [],
   "source": [
    "X.shape"
   ]
  },
  {
   "cell_type": "markdown",
   "metadata": {},
   "source": [
    "The dataset consists of 442 instances. 10 features were collected. This is a regression problem, the target is a quantitative measure of disease progression one year after baseline."
   ]
  },
  {
   "cell_type": "markdown",
   "metadata": {},
   "source": [
    "Here, the data will be split to train and test. Only 10% of data will be used for testing purpose."
   ]
  },
  {
   "cell_type": "code",
   "execution_count": null,
   "metadata": {},
   "outputs": [],
   "source": [
    "X_train, X_test, y_train, y_test = train_test_split(X, y, test_size=0.1, random_state=520)"
   ]
  },
  {
   "cell_type": "markdown",
   "metadata": {},
   "source": [
    "### <center>Scale the data</center>"
   ]
  },
  {
   "cell_type": "code",
   "execution_count": null,
   "metadata": {},
   "outputs": [],
   "source": [
    "scaler = StandardScaler()\n",
    "scaler.fit(X_train)\n",
    "X_train = scaler.transform(X_train)\n",
    "X_test = scaler.transform(X_test)\n",
    "\n",
    "# Scale target variable, so we can use logistic activation function\n",
    "scaler = MinMaxScaler(feature_range=(0.1, 0.9))\n",
    "scaler.fit(y_train.reshape((y_train.shape[0], 1)))\n",
    "y_train = scaler.transform(y_train.reshape((y_train.shape[0], 1))).reshape((y_train.shape[0],))\n",
    "y_test = scaler.transform(y_test.reshape((y_test.shape[0], 1))).reshape((y_test.shape[0],))"
   ]
  },
  {
   "cell_type": "markdown",
   "metadata": {},
   "source": [
    "### <center>Train a simple neural network</center>"
   ]
  },
  {
   "cell_type": "markdown",
   "metadata": {},
   "source": [
    "Now, let's train a simple neural network with default parameters."
   ]
  },
  {
   "cell_type": "code",
   "execution_count": null,
   "metadata": {},
   "outputs": [],
   "source": [
    "model = NN.MLPRegressor(random_state=520)\n",
    "model.fit(X_train, y_train)\n",
    "y_hat_test = model.predict(X_test)\n",
    "y_hat_train = model.predict(X_train)"
   ]
  },
  {
   "cell_type": "markdown",
   "metadata": {},
   "source": [
    "Scores (coefficients of determination, might be negative also):"
   ]
  },
  {
   "cell_type": "code",
   "execution_count": null,
   "metadata": {},
   "outputs": [],
   "source": [
    "print('Train score:', model.score(X_train, y_train))\n",
    "print('Test score:', model.score(X_test, y_test))"
   ]
  },
  {
   "cell_type": "markdown",
   "metadata": {},
   "source": [
    "Visualize the results (predicted vs actual):"
   ]
  },
  {
   "cell_type": "code",
   "execution_count": null,
   "metadata": {},
   "outputs": [],
   "source": [
    "def predicted_vs_actual(predicted, actual):\n",
    "    plt.plot(predicted, actual, 'ro')\n",
    "    plt.xlabel('Predicted')\n",
    "    plt.ylabel('Actual')\n",
    "    plt.title('Predicted vs Actual')\n",
    "    plt.show()\n",
    "    \n",
    "results_plot = predicted_vs_actual"
   ]
  },
  {
   "cell_type": "code",
   "execution_count": null,
   "metadata": {},
   "outputs": [],
   "source": [
    "results_plot(y_hat_train, y_train)\n",
    "results_plot(y_hat_test, y_test)"
   ]
  },
  {
   "cell_type": "markdown",
   "metadata": {},
   "source": [
    "### <center>Train more complex neural networks</center>"
   ]
  },
  {
   "cell_type": "code",
   "execution_count": null,
   "metadata": {},
   "outputs": [],
   "source": [
    "model = NN.MLPRegressor(hidden_layer_sizes = (40, 40, 40, 40), activation='relu', random_state=520, max_iter = 10000, tol=1e-10)\n",
    "model.fit(X_train, y_train)\n",
    "y_hat_train = model.predict(X_train)\n",
    "y_hat_test = model.predict(X_test)\n",
    "print('Train score:', model.score(X_train, y_train))\n",
    "print('Test score:', model.score(X_test, y_test))\n",
    "results_plot(y_hat_train, y_train)\n",
    "results_plot(y_hat_test, y_test)"
   ]
  },
  {
   "cell_type": "markdown",
   "metadata": {},
   "source": [
    "What problem do we have? Overfitting!"
   ]
  },
  {
   "cell_type": "code",
   "execution_count": null,
   "metadata": {},
   "outputs": [],
   "source": [
    "# Based on the following:\n",
    "# Source: http://scikit-learn.org/stable/auto_examples/model_selection/plot_learning_curve.html\n",
    "\n",
    "import numpy as np\n",
    "from sklearn.model_selection import validation_curve\n",
    "\n",
    "def plot_validation_curve(estimator, title, X, y, ylim=None, cv=None,\n",
    "                          n_jobs=1, iterations=None):\n",
    "    plt.figure()\n",
    "    plt.title(title)\n",
    "    if ylim is not None:\n",
    "        plt.ylim(*ylim)\n",
    "    plt.xlabel(\"Number of iterations\")\n",
    "    plt.ylabel(\"Score\")\n",
    "    train_scores, test_scores = validation_curve(model, X, y, \"max_iter\",\n",
    "                                                 iterations,\n",
    "                                                 cv=cv)\n",
    "    train_scores_mean = np.mean(train_scores, axis=1)\n",
    "    train_scores_std = np.std(train_scores, axis=1)\n",
    "    test_scores_mean = np.mean(test_scores, axis=1)\n",
    "    test_scores_std = np.std(test_scores, axis=1)\n",
    "    plt.grid()\n",
    "\n",
    "    plt.fill_between(iterations, train_scores_mean - train_scores_std,\n",
    "                     train_scores_mean + train_scores_std, alpha=0.1,\n",
    "                     color=\"r\")\n",
    "    plt.fill_between(iterations, test_scores_mean - test_scores_std,\n",
    "                     test_scores_mean + test_scores_std, alpha=0.1, color=\"g\")\n",
    "    plt.plot(iterations, train_scores_mean, 'o-', color=\"r\",\n",
    "             label=\"Training score\")\n",
    "    plt.plot(iterations, test_scores_mean, 'o-', color=\"g\",\n",
    "             label=\"Cross-validation score\")\n",
    "\n",
    "    plt.legend(loc=\"best\")\n",
    "    return plt"
   ]
  },
  {
   "cell_type": "markdown",
   "metadata": {},
   "source": [
    "Let's plot a validation curve:"
   ]
  },
  {
   "cell_type": "code",
   "execution_count": null,
   "metadata": {},
   "outputs": [],
   "source": [
    "model = NN.MLPRegressor(hidden_layer_sizes=(40, 40, 40, 40), activation='relu', random_state=520, tol=1e-10)\n",
    "plot_validation_curve(model, \"Validation Curve (Neural Network, MLP)\", X_train, y_train, ylim=(0.0, 1.01), cv=5, iterations=list(np.arange(5, 150, 3)))\n",
    "plt.show()"
   ]
  },
  {
   "cell_type": "markdown",
   "metadata": {},
   "source": [
    "Let's train the optimal number of iterations:"
   ]
  },
  {
   "cell_type": "code",
   "execution_count": null,
   "metadata": {},
   "outputs": [],
   "source": [
    "model = NN.MLPRegressor(hidden_layer_sizes=(40, 40, 40, 40), activation='relu', random_state=520, max_iter=23, tol=1e-10, verbose=True)\n",
    "model.fit(X_train, y_train)\n",
    "y_hat_train = model.predict(X_train)\n",
    "y_hat_test = model.predict(X_test)\n",
    "print('Train score:', model.score(X_train, y_train))\n",
    "print('Test score:', model.score(X_test, y_test))\n",
    "results_plot(y_hat_train, y_train)\n",
    "results_plot(y_hat_test, y_test)"
   ]
  },
  {
   "cell_type": "markdown",
   "metadata": {},
   "source": [
    "Let's use cross-validation to find optimal parameters:"
   ]
  },
  {
   "cell_type": "code",
   "execution_count": null,
   "metadata": {},
   "outputs": [],
   "source": [
    "# Hidden layer sizes\n",
    "# hidden_layer_sizes : tuple, default (100,)\n",
    "\n",
    "# Activation funciton\n",
    "# activation : {‘identity’, ‘logistic’, ‘tanh’, ‘relu’}, default ‘relu’\n",
    "\n",
    "# Optimization solver\n",
    "# solver : {‘lbfgs’, ‘sgd’, ‘adam’}, default ‘adam’\n",
    "\n",
    "# L2 penatly parameter\n",
    "# alpha : float, optional, default 0.0001\n",
    "\n",
    "# Batch size\n",
    "# batch_size : int, optional, default ‘auto’\n",
    "\n",
    "# Learning rate (for sgd solver only)\n",
    "# learning_rate : {‘constant’, ‘invscaling’, ‘adaptive’}, default ‘constant’\n",
    "\n",
    "# Learning rate init (for sgd or adam only)\n",
    "# learning_rate_init : double, optional, default 0.001\n",
    "\n",
    "# Exponent for inverse scaling learning rate (for sgd with invscaling only)\n",
    "# power_t : double, optional, default 0.5\n",
    "\n",
    "# Maximum number of iterations\n",
    "# max_iter : int, optional, default 200\n",
    "\n",
    "# Shuffle (for sgd or adam only)\n",
    "# shuffle : bool, optional, default True\n",
    "\n",
    "# Random state\n",
    "# random_state : int, RandomState instance or None, optional, default None\n",
    "\n",
    "# Tolerance for the optimization\n",
    "# tol : float, optional, default 1e-4\n",
    "\n",
    "# Varbose: print progress\n",
    "# verbose : bool, optional, default False\n",
    "\n",
    "# Warm start: do we want to reuse the solution of the previous call?\n",
    "# warm_start : bool, optional, default False\n",
    "\n",
    "# Momentum (for sgd only)\n",
    "# momentum : float, default 0.9\n",
    "\n",
    "# Nesterov's momentum (for sgd only, when momentum > 0)\n",
    "# nesterovs_momentum : boolean, default True\n",
    "\n",
    "# Early stopping\n",
    "# early_stopping : bool, default False\n",
    "\n",
    "# Validation set for early stopping (only when early_stopping is True)\n",
    "# validation_fraction : float, optional, default 0.1\n",
    "\n",
    "# Beta 1 (for adam only). \n",
    "# Exponential decay rate for estimates of first moment vector in adam, should be in [0, 1).\n",
    "# beta_1 : float, optional, default 0.9\n",
    "\n",
    "# Beta 2 (for adam only).\n",
    "# Exponential decay rate for estimates of second moment vector in adam, should be in [0, 1).\n",
    "# beta_2 : float, optional, default 0.999\n",
    "\n",
    "# Epsilon (for adam only). Value for numerical stability\n",
    "# epsilon : float, optional, default 1e-8\n",
    "\n",
    "# Maximum number of epochs to not meet tol improvement (for sgd or adam only)\n",
    "# n_iter_no_change : int, optional, default 10\n",
    "\n",
    "NN_CV = GridSearchCV(NN.MLPRegressor(hidden_layer_sizes=(40, 40, 40, 40), activation='relu', random_state=520, max_iter=10000, tol=1e-10, early_stopping=True),\n",
    "                     cv=5,\n",
    "                     param_grid={\n",
    "                         \"alpha\": [0.001, 0.1, 1, 10],\n",
    "                         \"learning_rate_init\": [0.001, 0.01, 0.1, 1]\n",
    "                     })\n",
    "\n",
    "NN_CV.fit(X_train, y_train)\n",
    "print('The parameters found by CV search:')\n",
    "print(NN_CV.best_params_)\n",
    "model = NN_CV\n",
    "y_hat_train = model.predict(X_train)\n",
    "y_hat_test = model.predict(X_test)\n",
    "print('Train score:', model.score(X_train, y_train))\n",
    "print('Test score:', model.score(X_test, y_test))\n",
    "results_plot(y_hat_train, y_train)\n",
    "results_plot(y_hat_test, y_test)"
   ]
  },
  {
   "cell_type": "markdown",
   "metadata": {},
   "source": [
    "Now, let's try logistic activation function:"
   ]
  },
  {
   "cell_type": "code",
   "execution_count": null,
   "metadata": {},
   "outputs": [],
   "source": [
    "NN_CV = GridSearchCV(NN.MLPRegressor(hidden_layer_sizes=(40, 40, 40, 40), activation='logistic', random_state=520, max_iter=10000, early_stopping=True),\n",
    "                     cv=5,\n",
    "                     param_grid={\n",
    "                         \"alpha\": [0.0001, 0.001, 0.1, 1],\n",
    "                         \"learning_rate_init\": [0.001, 0.01, 0.1, 1]\n",
    "                     })\n",
    "\n",
    "NN_CV.fit(X_train, y_train)\n",
    "print('The parameters found by CV search:')\n",
    "print(NN_CV.best_params_)\n",
    "model = NN_CV\n",
    "y_hat_train = model.predict(X_train)\n",
    "y_hat_test = model.predict(X_test)\n",
    "print('Train score:', model.score(X_train, y_train))\n",
    "print('Test score:', model.score(X_test, y_test))\n",
    "results_plot(y_hat_train, y_train)\n",
    "results_plot(y_hat_test, y_test)"
   ]
  },
  {
   "cell_type": "code",
   "execution_count": null,
   "metadata": {},
   "outputs": [],
   "source": []
  }
 ],
 "metadata": {
  "kernelspec": {
   "display_name": "Python 3",
   "language": "python",
   "name": "python3"
  },
  "language_info": {
   "codemirror_mode": {
    "name": "ipython",
    "version": 3
   },
   "file_extension": ".py",
   "mimetype": "text/x-python",
   "name": "python",
   "nbconvert_exporter": "python",
   "pygments_lexer": "ipython3",
   "version": "3.7.3"
  }
 },
 "nbformat": 4,
 "nbformat_minor": 4
}
